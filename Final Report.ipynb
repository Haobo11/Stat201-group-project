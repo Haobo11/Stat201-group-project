{
 "cells": [
  {
   "cell_type": "markdown",
   "id": "6cf25efd-549f-4c89-b0f6-aea19e317060",
   "metadata": {},
   "source": [
    "## The Difference in Vehicle Theft in the Hastings-Sunrise Neighbourhood Between 2021 and 2022\n",
    "#### Authors: Haobo Li, Ahana Thakur, Junbo Rao, Irene Wan"
   ]
  },
  {
   "cell_type": "markdown",
   "id": "3922f311-ac4c-4774-a120-b2a176eb528b",
   "metadata": {},
   "source": [
    "### Introduction"
   ]
  },
  {
   "cell_type": "markdown",
   "id": "3748dac3-5d26-4361-80f7-ef16f3895f59",
   "metadata": {},
   "source": [
    "There has been an unprecedented increase in inflation in 2022. Factors contributing to this are largely connected to COVID-19, including the reopening of economies around the world and increased need for services that were suspended during the height of the pandemic. Strained global supply chains were further impaired by the Russian-Ukrainian conflict, leading to an increase in comodity prices – particularly in gas and food items (Macklem, 2022). \n",
    "\n",
    "In response to increasing demand and waning supply, crime rates also seem to be on the rise in Vancouver. Studies have suggested a positive trend between crime and inflation rates, primarily due to unsustainable costs of living (Tang & Lean, 2007). Therefore, this report will investigate whether crime rates have indeed increased in 2022. We will specifically analyze crimes occuring in the Hastings-Sunrise neighbourhood and calculating the proportion of crimes that were vehicle thefts 2021 and 2022. A comparison of the two statistics will determine whether there has been a significant difference between the two timepoints of interest."
   ]
  }
 ],
 "metadata": {
  "kernelspec": {
   "display_name": "R",
   "language": "R",
   "name": "ir"
  },
  "language_info": {
   "codemirror_mode": "r",
   "file_extension": ".r",
   "mimetype": "text/x-r-source",
   "name": "R",
   "pygments_lexer": "r",
   "version": "4.1.3"
  }
 },
 "nbformat": 4,
 "nbformat_minor": 5
}
