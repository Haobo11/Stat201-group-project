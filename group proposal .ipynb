{
 "cells": [
  {
   "cell_type": "code",
   "execution_count": 1,
   "id": "a08c3152-02cf-41e4-820d-0ddf91024b59",
   "metadata": {},
   "outputs": [
    {
     "name": "stderr",
     "output_type": "stream",
     "text": [
      "── \u001b[1mAttaching packages\u001b[22m ─────────────────────────────────────── tidyverse 1.3.2 ──\n",
      "\u001b[32m✔\u001b[39m \u001b[34mggplot2\u001b[39m 3.3.6      \u001b[32m✔\u001b[39m \u001b[34mpurrr  \u001b[39m 0.3.4 \n",
      "\u001b[32m✔\u001b[39m \u001b[34mtibble \u001b[39m 3.1.8      \u001b[32m✔\u001b[39m \u001b[34mdplyr  \u001b[39m 1.0.10\n",
      "\u001b[32m✔\u001b[39m \u001b[34mtidyr  \u001b[39m 1.2.1      \u001b[32m✔\u001b[39m \u001b[34mstringr\u001b[39m 1.4.1 \n",
      "\u001b[32m✔\u001b[39m \u001b[34mreadr  \u001b[39m 2.1.2      \u001b[32m✔\u001b[39m \u001b[34mforcats\u001b[39m 0.5.2 \n",
      "── \u001b[1mConflicts\u001b[22m ────────────────────────────────────────── tidyverse_conflicts() ──\n",
      "\u001b[31m✖\u001b[39m \u001b[34mdplyr\u001b[39m::\u001b[32mfilter()\u001b[39m masks \u001b[34mstats\u001b[39m::filter()\n",
      "\u001b[31m✖\u001b[39m \u001b[34mdplyr\u001b[39m::\u001b[32mlag()\u001b[39m    masks \u001b[34mstats\u001b[39m::lag()\n",
      "\n",
      "Attaching package: ‘gridExtra’\n",
      "\n",
      "\n",
      "The following object is masked from ‘package:dplyr’:\n",
      "\n",
      "    combine\n",
      "\n",
      "\n"
     ]
    }
   ],
   "source": [
    "library(tidyverse)\n",
    "library(broom)\n",
    "library(repr)\n",
    "library(digest)\n",
    "library(infer)\n",
    "library(gridExtra)"
   ]
  },
  {
   "cell_type": "code",
   "execution_count": 3,
   "id": "e9068ab3-45a3-4bd7-b6d5-3f32856518f2",
   "metadata": {},
   "outputs": [
    {
     "data": {
      "text/html": [
       "<table class=\"dataframe\">\n",
       "<caption>A data.frame: 6 × 10</caption>\n",
       "<thead>\n",
       "\t<tr><th></th><th scope=col>TYPE</th><th scope=col>YEAR</th><th scope=col>MONTH</th><th scope=col>DAY</th><th scope=col>HOUR</th><th scope=col>MINUTE</th><th scope=col>HUNDRED_BLOCK</th><th scope=col>NEIGHBOURHOOD</th><th scope=col>X</th><th scope=col>Y</th></tr>\n",
       "\t<tr><th></th><th scope=col>&lt;chr&gt;</th><th scope=col>&lt;int&gt;</th><th scope=col>&lt;int&gt;</th><th scope=col>&lt;int&gt;</th><th scope=col>&lt;int&gt;</th><th scope=col>&lt;int&gt;</th><th scope=col>&lt;chr&gt;</th><th scope=col>&lt;chr&gt;</th><th scope=col>&lt;dbl&gt;</th><th scope=col>&lt;dbl&gt;</th></tr>\n",
       "</thead>\n",
       "<tbody>\n",
       "\t<tr><th scope=row>1</th><td>Theft from Vehicle</td><td>2021</td><td>8</td><td>17</td><td>21</td><td>57</td><td>1XX RENFREW ST  </td><td>Hastings-Sunrise</td><td>496804.9</td><td>5459011</td></tr>\n",
       "\t<tr><th scope=row>2</th><td>Theft from Vehicle</td><td>2021</td><td>9</td><td>20</td><td>20</td><td>45</td><td>20XX CASSIAR ST </td><td>Hastings-Sunrise</td><td>497740.0</td><td>5457015</td></tr>\n",
       "\t<tr><th scope=row>3</th><td>Theft from Vehicle</td><td>2021</td><td>3</td><td> 5</td><td> 3</td><td>30</td><td>20XX CASSIAR ST </td><td>Hastings-Sunrise</td><td>497740.0</td><td>5457017</td></tr>\n",
       "\t<tr><th scope=row>4</th><td>Theft from Vehicle</td><td>2021</td><td>2</td><td>15</td><td>12</td><td> 0</td><td>21XX KAMLOOPS ST</td><td>Hastings-Sunrise</td><td>496024.4</td><td>5456995</td></tr>\n",
       "\t<tr><th scope=row>5</th><td>Theft from Vehicle</td><td>2021</td><td>6</td><td>28</td><td>12</td><td> 0</td><td>21XX LILLOOET ST</td><td>Hastings-Sunrise</td><td>497165.9</td><td>5456990</td></tr>\n",
       "\t<tr><th scope=row>6</th><td>Theft from Vehicle</td><td>2021</td><td>4</td><td>14</td><td> 3</td><td> 0</td><td>21XX NANAIMO ST </td><td>Hastings-Sunrise</td><td>495887.6</td><td>5456922</td></tr>\n",
       "</tbody>\n",
       "</table>\n"
      ],
      "text/latex": [
       "A data.frame: 6 × 10\n",
       "\\begin{tabular}{r|llllllllll}\n",
       "  & TYPE & YEAR & MONTH & DAY & HOUR & MINUTE & HUNDRED\\_BLOCK & NEIGHBOURHOOD & X & Y\\\\\n",
       "  & <chr> & <int> & <int> & <int> & <int> & <int> & <chr> & <chr> & <dbl> & <dbl>\\\\\n",
       "\\hline\n",
       "\t1 & Theft from Vehicle & 2021 & 8 & 17 & 21 & 57 & 1XX RENFREW ST   & Hastings-Sunrise & 496804.9 & 5459011\\\\\n",
       "\t2 & Theft from Vehicle & 2021 & 9 & 20 & 20 & 45 & 20XX CASSIAR ST  & Hastings-Sunrise & 497740.0 & 5457015\\\\\n",
       "\t3 & Theft from Vehicle & 2021 & 3 &  5 &  3 & 30 & 20XX CASSIAR ST  & Hastings-Sunrise & 497740.0 & 5457017\\\\\n",
       "\t4 & Theft from Vehicle & 2021 & 2 & 15 & 12 &  0 & 21XX KAMLOOPS ST & Hastings-Sunrise & 496024.4 & 5456995\\\\\n",
       "\t5 & Theft from Vehicle & 2021 & 6 & 28 & 12 &  0 & 21XX LILLOOET ST & Hastings-Sunrise & 497165.9 & 5456990\\\\\n",
       "\t6 & Theft from Vehicle & 2021 & 4 & 14 &  3 &  0 & 21XX NANAIMO ST  & Hastings-Sunrise & 495887.6 & 5456922\\\\\n",
       "\\end{tabular}\n"
      ],
      "text/markdown": [
       "\n",
       "A data.frame: 6 × 10\n",
       "\n",
       "| <!--/--> | TYPE &lt;chr&gt; | YEAR &lt;int&gt; | MONTH &lt;int&gt; | DAY &lt;int&gt; | HOUR &lt;int&gt; | MINUTE &lt;int&gt; | HUNDRED_BLOCK &lt;chr&gt; | NEIGHBOURHOOD &lt;chr&gt; | X &lt;dbl&gt; | Y &lt;dbl&gt; |\n",
       "|---|---|---|---|---|---|---|---|---|---|---|\n",
       "| 1 | Theft from Vehicle | 2021 | 8 | 17 | 21 | 57 | 1XX RENFREW ST   | Hastings-Sunrise | 496804.9 | 5459011 |\n",
       "| 2 | Theft from Vehicle | 2021 | 9 | 20 | 20 | 45 | 20XX CASSIAR ST  | Hastings-Sunrise | 497740.0 | 5457015 |\n",
       "| 3 | Theft from Vehicle | 2021 | 3 |  5 |  3 | 30 | 20XX CASSIAR ST  | Hastings-Sunrise | 497740.0 | 5457017 |\n",
       "| 4 | Theft from Vehicle | 2021 | 2 | 15 | 12 |  0 | 21XX KAMLOOPS ST | Hastings-Sunrise | 496024.4 | 5456995 |\n",
       "| 5 | Theft from Vehicle | 2021 | 6 | 28 | 12 |  0 | 21XX LILLOOET ST | Hastings-Sunrise | 497165.9 | 5456990 |\n",
       "| 6 | Theft from Vehicle | 2021 | 4 | 14 |  3 |  0 | 21XX NANAIMO ST  | Hastings-Sunrise | 495887.6 | 5456922 |\n",
       "\n"
      ],
      "text/plain": [
       "  TYPE               YEAR MONTH DAY HOUR MINUTE HUNDRED_BLOCK   \n",
       "1 Theft from Vehicle 2021 8     17  21   57     1XX RENFREW ST  \n",
       "2 Theft from Vehicle 2021 9     20  20   45     20XX CASSIAR ST \n",
       "3 Theft from Vehicle 2021 3      5   3   30     20XX CASSIAR ST \n",
       "4 Theft from Vehicle 2021 2     15  12    0     21XX KAMLOOPS ST\n",
       "5 Theft from Vehicle 2021 6     28  12    0     21XX LILLOOET ST\n",
       "6 Theft from Vehicle 2021 4     14   3    0     21XX NANAIMO ST \n",
       "  NEIGHBOURHOOD    X        Y      \n",
       "1 Hastings-Sunrise 496804.9 5459011\n",
       "2 Hastings-Sunrise 497740.0 5457015\n",
       "3 Hastings-Sunrise 497740.0 5457017\n",
       "4 Hastings-Sunrise 496024.4 5456995\n",
       "5 Hastings-Sunrise 497165.9 5456990\n",
       "6 Hastings-Sunrise 495887.6 5456922"
      ]
     },
     "metadata": {},
     "output_type": "display_data"
    }
   ],
   "source": [
    "data <- read.csv(\"/home/jovyan/Group Project/stat201-group-project/crimedata_csv_Hastings-Sunrise_2021.csv\")\n",
    "head(data)"
   ]
  },
  {
   "cell_type": "code",
   "execution_count": null,
   "id": "8f8cb46c-a1ea-459b-b8a7-d4674a9239bc",
   "metadata": {},
   "outputs": [],
   "source": []
  }
 ],
 "metadata": {
  "kernelspec": {
   "display_name": "R",
   "language": "R",
   "name": "ir"
  },
  "language_info": {
   "codemirror_mode": "r",
   "file_extension": ".r",
   "mimetype": "text/x-r-source",
   "name": "R",
   "pygments_lexer": "r",
   "version": "4.1.3"
  }
 },
 "nbformat": 4,
 "nbformat_minor": 5
}
